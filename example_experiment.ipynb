{
 "cells": [
  {
   "cell_type": "markdown",
   "metadata": {},
   "source": [
    "# Example experiment"
   ]
  },
  {
   "cell_type": "markdown",
   "metadata": {},
   "source": [
    "Simulate control system of two robots trying to perform a rendevous. The control system is a second order system with damping. The governing differential equations are shown below:"
   ]
  },
  {
   "cell_type": "markdown",
   "metadata": {},
   "source": [
    "### Solve coupled DE's for rendevous control system"
   ]
  },
  {
   "cell_type": "markdown",
   "metadata": {},
   "source": [
    "$$\\frac{d^2 \\textbf{r}_1}{dt^2} = \\nu_1 \\frac{d \\textbf{r}_1}{dt} + K_1 (\\textbf{r}_2 - \\textbf{r}_1)$$\n",
    "\n",
    "$$\\frac{d^2 \\textbf{r}_2}{dt^2} = \\nu_2 \\frac{d \\textbf{r}_2}{dt} + K_2 (\\textbf{r}_1 - \\textbf{r}_2)$$"
   ]
  },
  {
   "cell_type": "markdown",
   "metadata": {},
   "source": [
    "Write as first order odes"
   ]
  },
  {
   "cell_type": "markdown",
   "metadata": {},
   "source": [
    "$$\\frac{d \\textbf{v}_1}{dt} = \\nu_1 \\textbf{v}_1 + K_1 (\\textbf{r}_2 - \\textbf{r}_1)$$\n",
    "\n",
    "$$\\frac{d \\textbf{v}_2}{dt} = \\nu_2 \\textbf{v}_2 + K_2 (\\textbf{r}_1 - \\textbf{r}_2)$$\n",
    "\n",
    "$$\\frac{d \\textbf{r}_1}{dt} = \\textbf{v}_1$$\n",
    "\n",
    "$$\\frac{d \\textbf{r}_2}{dt} = \\textbf{v}_2$$"
   ]
  },
  {
   "cell_type": "code",
   "execution_count": 1,
   "metadata": {},
   "outputs": [],
   "source": [
    "import writefile_run\n",
    "filename = 'rendevouz_control.py'"
   ]
  },
  {
   "cell_type": "code",
   "execution_count": 2,
   "metadata": {},
   "outputs": [],
   "source": [
    "%%writefile_run $filename\n",
    "\n",
    "# check if in an interactive environment\n",
    "IPY = True\n",
    "try:\n",
    "    get_ipython()\n",
    "except:\n",
    "    IPY = False"
   ]
  },
  {
   "cell_type": "code",
   "execution_count": 3,
   "metadata": {},
   "outputs": [],
   "source": [
    "%%writefile_run $filename -a\n",
    "\n",
    "\n",
    "from sacred import Experiment\n",
    "import numpy as np\n",
    "import matplotlib.pyplot as plt\n",
    "from scipy.integrate import ode\n",
    "from sacred.observers import FileStorageObserver\n",
    "from visdom_observer import VisdomObserver\n",
    "import time\n",
    "import os"
   ]
  },
  {
   "cell_type": "code",
   "execution_count": 4,
   "metadata": {},
   "outputs": [],
   "source": [
    "import visdom_observer"
   ]
  },
  {
   "cell_type": "code",
   "execution_count": 5,
   "metadata": {},
   "outputs": [],
   "source": [
    "plt.style.use(['dark_background'])\n",
    "plt.rcParams['axes.grid']=True\n",
    "plt.rcParams['font.size']=15\n",
    "plt.rcParams['figure.figsize']=18,7"
   ]
  },
  {
   "cell_type": "code",
   "execution_count": 6,
   "metadata": {},
   "outputs": [],
   "source": [
    "%%writefile_run $filename -a\n",
    "\n",
    "\n",
    "ex = Experiment('rendevouz_control', interactive=IPY)\n",
    "fobs = FileStorageObserver.create('my_runs')\n",
    "ex.observers.append(fobs)\n",
    "ex.observers.append(VisdomObserver())"
   ]
  },
  {
   "cell_type": "code",
   "execution_count": 7,
   "metadata": {},
   "outputs": [],
   "source": [
    "%%writefile_run $filename -a\n",
    "\n",
    "\n",
    "@ex.config\n",
    "def system_config():\n",
    "    \"\"\"System parameters\"\"\"\n",
    "    # 'spring' constants\n",
    "    K1 = 1\n",
    "    K2 = 1\n",
    "    \n",
    "    # damping constants\n",
    "    nu1 = -1\n",
    "    nu2 = -1\n",
    "    dim = 2"
   ]
  },
  {
   "cell_type": "code",
   "execution_count": 8,
   "metadata": {},
   "outputs": [],
   "source": [
    "%%writefile_run $filename -a\n",
    "\n",
    "\n",
    "@ex.config\n",
    "def solver_config():\n",
    "    \"\"\"Config for solver\"\"\"\n",
    "    steps = 1000 # steps to solve\n",
    "    dt = 0.01 # time resolution\n",
    "    delay = 0.01 # added delay in loop to simulate work\n",
    "    \n",
    "    save_fig = True # whether to save a figure showing locations of the bodies\n",
    "    \n",
    "    # the configs below only matter is save_fig is True\n",
    "    save_fig_steps=100 # steps between which to save figure of the bodies\n",
    "    dpi=50 # dpi of saved figure"
   ]
  },
  {
   "cell_type": "code",
   "execution_count": 9,
   "metadata": {},
   "outputs": [],
   "source": [
    "%%writefile_run $filename -a\n",
    "\n",
    "\n",
    "@ex.config\n",
    "def init_value_config():\n",
    "    \"\"\"Initial values\"\"\"\n",
    "    v1_init = [-1,0]\n",
    "    v2_init = [1,0]\n",
    "    r1_init = [0,1]\n",
    "    r2_init = [0,-1]\n",
    "\n",
    "    y_init = np.array([v1_init, \n",
    "                    v2_init, \n",
    "                    r1_init, \n",
    "                    r2_init]).reshape(-1)"
   ]
  },
  {
   "cell_type": "code",
   "execution_count": 10,
   "metadata": {},
   "outputs": [],
   "source": [
    "r = ex._create_run('print_config')\n",
    "\n",
    "globals().update(r.config)"
   ]
  },
  {
   "cell_type": "code",
   "execution_count": 11,
   "metadata": {},
   "outputs": [],
   "source": [
    "%%writefile_run $filename -a\n",
    "\n",
    "\n",
    "@ex.capture\n",
    "def f(t, y, K1=1, K2=1, nu1=-1, nu2=-1, dim=2):\n",
    "    \"\"\"Returns derivative of vector of vars.\n",
    "    dim*4 variable vector: v1, v2, r1, r2\"\"\"\n",
    "    \n",
    "    v1, v2, r1, r2 = y.reshape(4,dim)\n",
    "        \n",
    "    v1_prime = nu1*v1 + K1*(r2-r1)\n",
    "    v2_prime = nu2*v2 + K2*(r1-r2)\n",
    "    r1_prime = v1\n",
    "    r2_prime = v2\n",
    "    \n",
    "    return np.concatenate([v1_prime, \n",
    "                        v2_prime, \n",
    "                        r1_prime, \n",
    "                        r2_prime])"
   ]
  },
  {
   "cell_type": "code",
   "execution_count": 12,
   "metadata": {},
   "outputs": [
    {
     "data": {
      "text/plain": [
       "array([-1., -1., -1., -1.,  1.,  1.,  1.,  1.])"
      ]
     },
     "execution_count": 12,
     "metadata": {},
     "output_type": "execute_result"
    }
   ],
   "source": [
    "f(1,np.ones(8))"
   ]
  },
  {
   "cell_type": "code",
   "execution_count": 13,
   "metadata": {},
   "outputs": [],
   "source": [
    "%%writefile_run $filename -a\n",
    "\n",
    "\n",
    "@ex.capture\n",
    "def run_expt(y_init, dt, steps, dim, delay, save_fig, save_fig_steps, dpi):\n",
    "    r = ode(f).set_initial_value(y_init)\n",
    "\n",
    "    fig, ax = plt.subplots(1,1)\n",
    "    \n",
    "    plt.close(fig)\n",
    "    \n",
    "    t = dt\n",
    "    y = [y_init]\n",
    "    for i in range(steps):\n",
    "        step = r.integrate(t)\n",
    "        y.append(step)\n",
    "        t+=dt\n",
    "        \n",
    "        v1, v2, r1, r2 = step.reshape(4,dim)\n",
    "        \n",
    "        # log metrics\n",
    "        ex.log_scalar('rel_distance', np.linalg.norm(r1-r2))\n",
    "        ex.log_scalar('rel_velocity', np.linalg.norm(v1-v2))\n",
    "        \n",
    "        arry = np.array(y)\n",
    "        ax.axis('off')\n",
    "        ax.scatter(arry[:,dim*2::dim], arry[:,dim*2+1::dim], c=['red', 'blue'])\n",
    "        \n",
    "        # save figure\n",
    "        if save_fig and i%save_fig_steps==0:\n",
    "            d = fobs.dir or 'figures'\n",
    "            path = os.path.join(d,'fig.png')\n",
    "            fig.savefig(path, bbox_inches='tight',dpi=dpi)\n",
    "            ex.add_artifact(path)\n",
    "            \n",
    "        # extra delay to simulate work\n",
    "        time.sleep(delay)\n",
    "        \n",
    "    y = np.array(y)\n",
    "    \n",
    "    return y"
   ]
  },
  {
   "cell_type": "code",
   "execution_count": 14,
   "metadata": {},
   "outputs": [],
   "source": [
    "r = ex._create_run('print_config')"
   ]
  },
  {
   "cell_type": "markdown",
   "metadata": {},
   "source": [
    "y = run_expt()"
   ]
  },
  {
   "cell_type": "markdown",
   "metadata": {},
   "source": [
    "y[:,dim*2::dim], y[:,dim*2+1::dim]"
   ]
  },
  {
   "cell_type": "markdown",
   "metadata": {},
   "source": [
    "plt.scatter(y[:,dim*2::dim], y[:,dim*2+1::dim], c=['red', 'blue'])\n",
    "plt.show()"
   ]
  },
  {
   "cell_type": "code",
   "execution_count": 15,
   "metadata": {},
   "outputs": [],
   "source": [
    "%%writefile_run $filename -a -dr\n",
    "\n",
    "\n",
    "@ex.automain\n",
    "def main():\n",
    "    return run_expt()"
   ]
  },
  {
   "cell_type": "markdown",
   "metadata": {},
   "source": [
    "!python rendevouz_control.py with delay=0"
   ]
  },
  {
   "cell_type": "code",
   "execution_count": null,
   "metadata": {},
   "outputs": [],
   "source": []
  },
  {
   "cell_type": "code",
   "execution_count": null,
   "metadata": {},
   "outputs": [],
   "source": []
  }
 ],
 "metadata": {
  "kernelspec": {
   "display_name": "Python [conda env:pytorch_py36]",
   "language": "python",
   "name": "conda-env-pytorch_py36-py"
  },
  "language_info": {
   "codemirror_mode": {
    "name": "ipython",
    "version": 3
   },
   "file_extension": ".py",
   "mimetype": "text/x-python",
   "name": "python",
   "nbconvert_exporter": "python",
   "pygments_lexer": "ipython3",
   "version": "3.6.4"
  }
 },
 "nbformat": 4,
 "nbformat_minor": 2
}
