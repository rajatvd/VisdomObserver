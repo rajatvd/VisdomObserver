{
 "cells": [
  {
   "cell_type": "markdown",
   "metadata": {},
   "source": [
    "# Sacred run observer using visdom to plot logged metrics and artifacts"
   ]
  },
  {
   "cell_type": "code",
   "execution_count": 1,
   "metadata": {},
   "outputs": [],
   "source": [
    "import writefile_run\n",
    "filename = 'package/visdom_observer/visdom_observer.py'"
   ]
  },
  {
   "cell_type": "code",
   "execution_count": 2,
   "metadata": {},
   "outputs": [],
   "source": [
    "%%writefile_run $filename\n",
    "\n",
    "import visdom\n",
    "from sacred.observers import RunObserver\n",
    "import numpy as np\n",
    "import pprint\n",
    "import os\n",
    "import imageio\n",
    "from torchvision.transforms import ToPILImage, ToTensor\n",
    "\n",
    "IMAGE_EXTENSIONS = ['.png','.PNG','.svg','.bmp','.jpg','.jpeg']"
   ]
  },
  {
   "cell_type": "code",
   "execution_count": 3,
   "metadata": {},
   "outputs": [],
   "source": [
    "vis = visdom.Visdom(env='main')"
   ]
  },
  {
   "cell_type": "code",
   "execution_count": 4,
   "metadata": {},
   "outputs": [],
   "source": [
    "%%writefile_run $filename -a\n",
    "\n",
    "\n",
    "def metric_dict_to_xy(metric_data_dict, metric_names):\n",
    "    \"\"\"Returns the values and steps numpy arrays of the given metric\n",
    "    names for the metric data dict.\n",
    "    \n",
    "    Returns tuple (y, step)\"\"\"\n",
    "    y=[]\n",
    "    step=[]\n",
    "    for metric_name in metric_names:\n",
    "        metric = metric_data_dict[metric_name]\n",
    "        y.append(metric['values'])\n",
    "        step.append(metric['steps'])\n",
    "        \n",
    "    y = np.array(y).T\n",
    "    step = np.array(step).T\n",
    "    return y, step"
   ]
  },
  {
   "cell_type": "code",
   "execution_count": 5,
   "metadata": {},
   "outputs": [],
   "source": [
    "test = {\n",
    "    'm1':{\n",
    "        'steps':[1,2,3,4],\n",
    "        'values':[3,4,1,2],\n",
    "        'timestamps':[0,1,2,3]\n",
    "    },\n",
    "    'm2':{\n",
    "        'steps':[1,5,8,10],\n",
    "        'values':[5,5,5,1],\n",
    "        'timestamps':[0,1,2,3]\n",
    "    }\n",
    "}"
   ]
  },
  {
   "cell_type": "code",
   "execution_count": 6,
   "metadata": {},
   "outputs": [],
   "source": [
    "y,x = metric_dict_to_xy(test, test.keys())"
   ]
  },
  {
   "cell_type": "code",
   "execution_count": 7,
   "metadata": {},
   "outputs": [
    {
     "data": {
      "text/plain": [
       "'window_3689278cefd596'"
      ]
     },
     "execution_count": 7,
     "metadata": {},
     "output_type": "execute_result"
    }
   ],
   "source": [
    "vis.line(y,X=x)"
   ]
  },
  {
   "cell_type": "code",
   "execution_count": 8,
   "metadata": {},
   "outputs": [],
   "source": [
    "%%writefile_run $filename -a\n",
    "\n",
    "\n",
    "class MetricWindow():\n",
    "    \"\"\"Wraps around a visdom window with line plots for displaying metrics.\"\"\"\n",
    "    def __init__(self, vis, metric_data_dict, metric_names_to_plot=None, title=None):\n",
    "        \"\"\"\n",
    "        vis: visdom instance\n",
    "        metric_data_dict: data for metrics in the following format:\n",
    "        {\n",
    "            'metric1':{\n",
    "                'values':[list of values],\n",
    "                'steps':[list of steps (x axis values)]\n",
    "                'timestamps':[list of timestamps]\n",
    "            }, \n",
    "            'metric2':{\n",
    "                ...\n",
    "            },\n",
    "            ...\n",
    "        }\n",
    "        \n",
    "        metric_names_to_plot: list of metric names to plot. \n",
    "            Only the names specified in this list are plotted from the data_dict.\n",
    "            Will throw a key error if a metric in this list is not present in the \n",
    "            data_dict.\n",
    "            \n",
    "        title: Title of the plot\n",
    "        \n",
    "        \"\"\"\n",
    "        self.vis = vis\n",
    "        self.metric_names = metric_names_to_plot or list(metric_data_dict.keys())\n",
    "        self.title = title\n",
    "        \n",
    "#         print(metric_data_dict)\n",
    "        \n",
    "        self.opts = dict(\n",
    "            legend=self.metric_names,\n",
    "            xlabel='Steps',\n",
    "            ylabel='Value',\n",
    "            title=title or ', '.join(self.metric_names)\n",
    "        )\n",
    "        \n",
    "        y, step = metric_dict_to_xy(metric_data_dict, self.metric_names)\n",
    "        \n",
    "        self.win = self.vis.line(y, X=step, \n",
    "                        opts=self.opts)\n",
    "        \n",
    "    def update(self,metric_data_dict):\n",
    "        \"\"\"Update the lines in this metric plot with the given data_dict. Appends\n",
    "        the new data. Note that only the metric names for this window will be plotted,\n",
    "        so the metric_data_dict can contain other metrics as well, which will be ignored.\"\"\"\n",
    "        \n",
    "        y, step = metric_dict_to_xy(metric_data_dict, self.metric_names)\n",
    "        \n",
    "        if len(y)==0:\n",
    "            return\n",
    "        \n",
    "        self.vis.line(y, X=step,\n",
    "                     opts = self.opts,\n",
    "                     win=self.win,\n",
    "                     update='append')"
   ]
  },
  {
   "cell_type": "code",
   "execution_count": 9,
   "metadata": {},
   "outputs": [],
   "source": [
    "window = MetricWindow(vis, test)"
   ]
  },
  {
   "cell_type": "code",
   "execution_count": 10,
   "metadata": {},
   "outputs": [],
   "source": [
    "window.update(test)"
   ]
  },
  {
   "cell_type": "code",
   "execution_count": 11,
   "metadata": {},
   "outputs": [],
   "source": [
    "%%writefile_run $filename -a\n",
    "\n",
    "\n",
    "def update_metric_dict(metric_data_dict, new_data):\n",
    "    \"\"\"Updates the metric_data_dict with the new_data which is also\n",
    "    a dict of metrics by names. \n",
    "    Assumes new_data.keys is a subset of metric_data_dict.keys\"\"\"\n",
    "     \n",
    "    for metric_name, metric in new_data.items():\n",
    "        data = metric_data_dict[metric_name]\n",
    "        data['values'] += metric['values']\n",
    "        data['steps'] += metric['steps']\n",
    "        data['timestamps'] += metric['timestamps']"
   ]
  },
  {
   "cell_type": "code",
   "execution_count": 12,
   "metadata": {},
   "outputs": [],
   "source": [
    "new_test = {\n",
    "    'm1':{\n",
    "        'steps':[5,6,7,8],\n",
    "        'values':[8,9,10,11],\n",
    "        'timestamps':[0,1,2,3]\n",
    "    },\n",
    "    'm2':{\n",
    "        'steps':[20,21,22,23],\n",
    "        'values':[10,20,24,25],\n",
    "        'timestamps':[0,1,1,1]\n",
    "    }\n",
    "}"
   ]
  },
  {
   "cell_type": "code",
   "execution_count": 13,
   "metadata": {},
   "outputs": [],
   "source": [
    "window = MetricWindow(vis, test)"
   ]
  },
  {
   "cell_type": "code",
   "execution_count": 14,
   "metadata": {},
   "outputs": [],
   "source": [
    "window.update(new_test)"
   ]
  },
  {
   "cell_type": "code",
   "execution_count": 15,
   "metadata": {},
   "outputs": [
    {
     "name": "stdout",
     "output_type": "stream",
     "text": [
      "{'m1': {'steps': [1, 2, 3, 4, 5, 6, 7, 8],\n",
      "        'timestamps': [0, 1, 2, 3, 0, 1, 2, 3],\n",
      "        'values': [3, 4, 1, 2, 8, 9, 10, 11]},\n",
      " 'm2': {'steps': [1, 5, 8, 10, 20, 21, 22, 23],\n",
      "        'timestamps': [0, 1, 2, 3, 0, 1, 1, 1],\n",
      "        'values': [5, 5, 5, 1, 10, 20, 24, 25]}}\n"
     ]
    },
    {
     "data": {
      "text/plain": [
       "<__main__.MetricWindow at 0x2c61c52eef0>"
      ]
     },
     "execution_count": 15,
     "metadata": {},
     "output_type": "execute_result"
    }
   ],
   "source": [
    "update_metric_dict(test, new_test)\n",
    "pprint.pprint(test)\n",
    "MetricWindow(vis, test, title='direct')"
   ]
  },
  {
   "cell_type": "code",
   "execution_count": 16,
   "metadata": {},
   "outputs": [],
   "source": [
    "%%writefile_run $filename -a\n",
    "\n",
    "\n",
    "def plot_create_callback_generator(checkbox_dict, create_metric_plot, log=False):\n",
    "    \"\"\"Create a generator whose .send function acts as a callback. Since\n",
    "    the function is a generator, it is basically a stateful callback. Make\n",
    "    sure to call next on the generator once before registering the callback.\n",
    "    \n",
    "    checkbox_dict: The dictionary in which to maintain states of checkboxes.\n",
    "        If an unseen checkbox fires this callback, assumes it has been set to true.\n",
    "    \n",
    "    Assumes that property id 1 is a text input. Uses this as the title for creating\n",
    "    plots.\n",
    "      \n",
    "    create_metric_plot: The function to call when the element with property id 0 is called.\n",
    "        Assumes that it is a button meant for creating plots. Passes in the value of the text\n",
    "        field into this function as the title, and the names of the checked checkboxes as a list\n",
    "        of metric_names.\n",
    "    \"\"\"\n",
    "    \n",
    "    event = yield # first next call\n",
    "    text_field = ''\n",
    "    \n",
    "    while True:\n",
    "        prop_id = event['propertyId']\n",
    "        item = event['pane_data']['content'][prop_id]\n",
    "        \n",
    "        if log:\n",
    "            pprint.pprint(event)\n",
    "        \n",
    "        if prop_id == 1:\n",
    "            text_field = event['value']\n",
    "        \n",
    "        elif prop_id == 0:\n",
    "            try:\n",
    "                metric_names = []\n",
    "                for key, value in checkbox_dict.items():\n",
    "                    if value: \n",
    "                        metric_names.append(key)\n",
    "                create_metric_plot(metric_names=metric_names, title=text_field)\n",
    "            except KeyError as e:\n",
    "                print(\"Could not create metric plot\")\n",
    "                print(e)\n",
    "        \n",
    "        elif item['type'] == 'checkbox':\n",
    "            checkbox_dict[item['name']] = not checkbox_dict.get(item['name'], False)\n",
    "            \n",
    "       \n",
    "        # wait for next event\n",
    "        event = yield"
   ]
  },
  {
   "cell_type": "code",
   "execution_count": 17,
   "metadata": {},
   "outputs": [],
   "source": [
    "D = {}"
   ]
  },
  {
   "cell_type": "code",
   "execution_count": 18,
   "metadata": {},
   "outputs": [],
   "source": [
    "g = plot_create_callback_generator(D, lambda :0, log=True)\n",
    "next(g)\n",
    "handler = g.send"
   ]
  },
  {
   "cell_type": "code",
   "execution_count": 19,
   "metadata": {},
   "outputs": [],
   "source": [
    "mets = ['Red', 'Blue', 'Green', 'black']\n",
    "\n",
    "checkboxes = [{'type':'checkbox', 'name':met} for met in mets]\n",
    "\n",
    "create = {'type': 'button', 'name': 'New metric plot', 'value': 'Create'}\n",
    "text_test = {'type': 'text', 'name':'Plot title'}\n",
    "win = vis.properties([create]+[text_test]+checkboxes)\n",
    "\n",
    "vis.clear_event_handlers(win)\n",
    "vis.register_event_handler(handler, win)"
   ]
  },
  {
   "cell_type": "code",
   "execution_count": 20,
   "metadata": {},
   "outputs": [],
   "source": [
    "%%writefile_run $filename -a\n",
    "\n",
    "\n",
    "class VisdomObserver(RunObserver):\n",
    "    \"\"\"Observes scalar log events and artifact events and dynamically updates metric \n",
    "    plots in visdom\"\"\"\n",
    "    def __init__(self):\n",
    "        \n",
    "        self.artifact_wins = {}\n",
    "        self.step_wins = []\n",
    "            \n",
    "       \n",
    "    def started_event(self, ex_info, command, host_info, start_time, config,\n",
    "                      meta_info, _id):\n",
    "        \n",
    "        self.env = ex_info['name']+str(_id)\n",
    "        self.vis = visdom.Visdom(env=self.env)\n",
    "        \n",
    "        # display config\n",
    "        cfg = pprint.pformat(config, indent=2)\n",
    "        cfg = cfg.replace('\\n','<br>')\n",
    "        \n",
    "        self.vis.text(cfg, opts={'title':'Config'})\n",
    "        \n",
    "    def completed_event(self, stop_time, result):\n",
    "        \n",
    "        self.vis.save([self.env])\n",
    "        \n",
    "    def create_metric_plot(self, metric_names, title):\n",
    "        \"\"\"Create a new metric plot with the given title. Only \n",
    "        the metrics selected by the checkboxes will be plotted.\"\"\"\n",
    "\n",
    "        if len(metric_names) == 0:\n",
    "            return\n",
    "\n",
    "        window = MetricWindow(self.vis, \n",
    "                              self.metric_data_dict,\n",
    "                              metric_names_to_plot=metric_names,\n",
    "                              title=title)\n",
    "\n",
    "        self.step_wins.append(window)\n",
    "    \n",
    "    def make_properties_window(self):\n",
    "        \"\"\"Create a window which allows creation of metric plots.\n",
    "        Has a text field for plot title, and checkboxes for each metric\n",
    "        in the metric_data_dict.\n",
    "        \"\"\"\n",
    "        \n",
    "        mets = list(self.metric_data_dict.keys())\n",
    "        checkboxes = [{'type':'checkbox', 'name':met} for met in mets]\n",
    "        \n",
    "        create = {\n",
    "            'type': 'button', \n",
    "            'name': 'New metric plot', \n",
    "            'value': 'Create'\n",
    "        }\n",
    "        \n",
    "        title_inp = {\n",
    "            'type':'text',\n",
    "            'name':'Plot Title'\n",
    "        }\n",
    "        \n",
    "        win = self.vis.properties([create]+[title_inp]+checkboxes)\n",
    "        \n",
    "        self.checkbox_state = {}\n",
    "        \n",
    "        g = plot_create_callback_generator(self.checkbox_state, self.create_metric_plot)\n",
    "        next(g)\n",
    "        handler = g.send\n",
    "        \n",
    "        self.vis.clear_event_handlers(win)\n",
    "        self.vis.register_event_handler(handler, win)\n",
    "    \n",
    "    \n",
    "    \n",
    "    def log_metrics(self, metrics_by_name, info):\n",
    "        \"\"\"\n",
    "        Update stored metrics and all plots. If this is the first call,\n",
    "        create a properties window with the metrics. Assumes no new metrics are\n",
    "        sent in the middle of a run.\n",
    "        \"\"\"\n",
    "        \n",
    "        if len(metrics_by_name.keys())==0:return\n",
    "    \n",
    "        if hasattr(self, 'metric_data_dict'):\n",
    "            update_metric_dict(self.metric_data_dict, metrics_by_name)\n",
    "        else:\n",
    "            self.metric_data_dict = metrics_by_name\n",
    "            self.make_properties_window()\n",
    "        \n",
    "    \n",
    "        for win in self.step_wins:\n",
    "            if self.vis.win_exists(win.win):\n",
    "                win.update(metrics_by_name)\n",
    "            \n",
    "        self.vis.save([self.env])\n",
    "    \n",
    "    def artifact_event(self, name, filename):\n",
    "        \"\"\"If added artifacts are images, plot them.\"\"\"\n",
    "        \n",
    "        fname, ext = os.path.splitext(filename)\n",
    "#         print(name,filename,fname,ext)\n",
    "        win = self.artifact_wins.get(filename, None)\n",
    "        \n",
    "        if ext in IMAGE_EXTENSIONS:\n",
    "            self.artifact_wins[filename] = self.vis.image(\n",
    "                ToTensor()(imageio.imread(filename, pilmode='RGB')),\n",
    "                opts={'title':name},\n",
    "                win=win\n",
    "            )"
   ]
  },
  {
   "cell_type": "code",
   "execution_count": null,
   "metadata": {},
   "outputs": [],
   "source": []
  }
 ],
 "metadata": {
  "kernelspec": {
   "display_name": "Python [conda env:pytorch_py36]",
   "language": "python",
   "name": "conda-env-pytorch_py36-py"
  },
  "language_info": {
   "codemirror_mode": {
    "name": "ipython",
    "version": 3
   },
   "file_extension": ".py",
   "mimetype": "text/x-python",
   "name": "python",
   "nbconvert_exporter": "python",
   "pygments_lexer": "ipython3",
   "version": "3.6.4"
  }
 },
 "nbformat": 4,
 "nbformat_minor": 2
}
